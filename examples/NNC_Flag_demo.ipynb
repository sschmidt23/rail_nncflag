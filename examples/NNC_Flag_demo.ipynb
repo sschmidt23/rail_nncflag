{
 "cells": [
  {
   "cell_type": "markdown",
   "id": "0acbe6dd-d9e4-450e-a9a7-4ec6cb3a631b",
   "metadata": {},
   "source": [
    "# rail_nncflag \n",
    "\n",
    "**Author:** Sam Schmidt \n",
    "\n",
    "**Last successfully run:** Sep 4, 2025\n",
    "\n",
    "This notebook demonstrates the neural-net quality flag code, originally written by Adam Broussard and updated by Irene Moskowitz.  It takes in photometric data and the ensemble PDFs for a set of galaxies, along with true redshifts for a training set, and feeds in the reference magnitude and all colors to predict which objects return good point estimate redshifts.\n",
    "\n",
    "There is also an option to compute ODDS, the integrated probability around +/- 0.06*(1+zmode) of the mode redshift, and add that as an additional feature.  This is done via the `include_odds` configuration parameter.  If `include_odds` is set to `True` ODDS, which is itself an additional quality flag, is also included as an output.\n",
    "\n",
    "We begin with our usual imports, we will use the two cosmodc2 samples often employed in RAIL notebooks as our train and test sets. As PDFs are needed as well, we include a cell below with pre-computed PDFs from BPZ, you can download these files from NERSC as the tar file `bpz_traintest_ensembles.tar`.\n",
    "\n",
    "\n",
    "The cell below will download a tar file (72Mb) from NERSC and untar it if not already present in the directory:"
   ]
  },
  {
   "cell_type": "code",
   "execution_count": null,
   "id": "2d10c1eb-3ca2-4b94-a52d-8ac4872e7503",
   "metadata": {},
   "outputs": [],
   "source": [
    "import os\n",
    "tar_file = \"./bpz_traintest_ensembles.tar\"\n",
    "\n",
    "if not os.path.exists(tar_file):\n",
    "  os.system('curl -O https://portal.nersc.gov/cfs/lsst/PZ/bpz_traintest_ensembles.tar')\n",
    "  os.system('tar -xvf bpz_traintest_ensembles.tar')"
   ]
  },
  {
   "cell_type": "code",
   "execution_count": null,
   "id": "828162b8-38d0-4914-9f61-0d752d349729",
   "metadata": {},
   "outputs": [],
   "source": [
    "import matplotlib.pyplot as plt\n",
    "import numpy as np\n",
    "import qp\n",
    "import tables_io\n",
    "from rail.core.data import TableHandle, ModelHandle, QPHandle\n",
    "from rail.core.stage import RailStage\n",
    "from rail.utils.path_utils import RAILDIR\n",
    "from rail.estimation.algos.nnc_flag import NNFlagInformer, NNFlagEstimator"
   ]
  },
  {
   "cell_type": "markdown",
   "id": "5b7e4129-1066-4e79-b627-51bc1000ba4d",
   "metadata": {},
   "source": [
    "Let's load our data, both our photometry files and PDF ensembles from BPZ:"
   ]
  },
  {
   "cell_type": "code",
   "execution_count": null,
   "id": "288cfe1d-05c4-4116-8654-5332634e424d",
   "metadata": {},
   "outputs": [],
   "source": [
    "DS = RailStage.data_store\n",
    "DS.__class__.allow_overwrite = True"
   ]
  },
  {
   "cell_type": "code",
   "execution_count": null,
   "id": "1a02ec85-cb21-494b-b6b2-69655cc8fdca",
   "metadata": {},
   "outputs": [],
   "source": [
    "trainFile = os.path.join(RAILDIR, 'rail/examples_data/testdata/test_dc2_training_9816.hdf5')\n",
    "training_data = DS.read_file(\"training_data\", TableHandle, trainFile)\n",
    "\n",
    "testFile = os.path.join(RAILDIR, 'rail/examples_data/testdata/test_dc2_validation_9816.hdf5')\n",
    "test_data = DS.read_file(\"test_data\", TableHandle, testFile)\n",
    "\n",
    "pdftrainfile = \"./bpz_results_defaultprior_trainfile.hdf5\"\n",
    "pdfdata = DS.read_file(\"pdf_data\", QPHandle, pdftrainfile)\n",
    "\n",
    "pdftestfile = \"./bpz_results_defaultprior_testfile.hdf5\"\n",
    "pdftestdata = DS.read_file(\"pdf_test_data\", QPHandle, pdftestfile)"
   ]
  },
  {
   "cell_type": "markdown",
   "id": "9ac43f0e-46e4-4426-8940-e572f220c39a",
   "metadata": {},
   "source": [
    "## Set up the inform stage\n",
    "\n",
    "There are several parameters that control the behavior of the nncflag calculation.  Any parameter not set will take on their default values:\n",
    "\n",
    "- bands (list, default: SHARED_PARAMS): the list of photometric bands\n",
    "- ref_band (str, default: SHARED_PARAMS): the reference band, this band will be used as an input, the other bands are not included, but differences in the adjacent bands (colors) are used as the other inputs\n",
    "- redshift_col: (str, default: SHARED_PARAMS): name of the true redshift column in the photometry file\n",
    "- nodecounts (list, default: [100, 200, 100, 50, 1]): the number of notes in each neural net model\n",
    "- splitnum (int, default: 5): the number of neural net models to train\n",
    "- activations (list, default: ['selu', 'selu', 'selu', 'selu', 'sigmoid']): the activation functions for the neural net nodes.  NOTE: the length of `activations` must match the length of `nodecounts`!\n",
    "- epochs (int, default: 1000): the max number of training epochs for the NN models\n",
    "- acc_cutoff (float, default: 0.07): the boundary value of dz/1+z used for good/bad in NN, i.e. adjusting this value can change the distribution of what is classified as \"good\" and adjust the distribution of output flag values.\n",
    "- zphot_name (str, default: \"zmode\"): the name of the point estimate to grab from the qp Ensemble file, usually 'zmode' or 'zmean'\n",
    "- trainfrac (float, default: 0.75): the fraction of galaxies used for training, the remainder is reserved for validation in fitting the model\n",
    "- seed (int, default: 1234): seed used by numpy for reproducibility\n",
    "- include_odds (bool, default: False): if set to True, calculates ODDS parameter and includes in addition to the ref_band and colors as inputs to the neural net.  ODDS will also be output to file as an additional flag if this is set\n",
    " \n",
    "\n",
    "\n",
    "We need to tell NNFlagInformer which columns to use, set whether or not to include the ODDS parameter, and tell it which point estimate to use.\n",
    "\n",
    "we will set up the band names present in the train and test data, and create a dictionary that sets `include_odds` to True, and the `zphot_name` to `zmode`."
   ]
  },
  {
   "cell_type": "code",
   "execution_count": null,
   "id": "bf9bf20e-05f6-464c-af18-46f7bdaeb9f3",
   "metadata": {},
   "outputs": [],
   "source": [
    "bands = [\"u\", \"g\", \"r\", \"i\", \"z\", \"y\"]\n",
    "lsst_bands = []\n",
    "for band in bands:\n",
    "    lsst_bands.append(f\"mag_{band}_lsst\")\n",
    "print(lsst_bands)"
   ]
  },
  {
   "cell_type": "code",
   "execution_count": null,
   "id": "93d19d5c-c28d-4916-b435-53c9128148eb",
   "metadata": {},
   "outputs": [],
   "source": [
    "default_dict = dict(hdf5_groupname=\"photometry\", model=\"NNCflag_model.pkl\",\n",
    "                    bands=lsst_bands, trainfrac=0.5,\n",
    "                    include_odds=True,\n",
    "                    zphot_name='zmode')\n",
    "run_default = NNFlagInformer.make_stage(name=\"halfway\", **default_dict)"
   ]
  },
  {
   "cell_type": "code",
   "execution_count": null,
   "id": "602cc2ad-dbb8-451d-a76f-68311f275ae3",
   "metadata": {},
   "outputs": [],
   "source": [
    "%%time\n",
    "nnc_model = run_default.inform(training_data, pdfdata)"
   ]
  },
  {
   "cell_type": "markdown",
   "id": "14eb1eaf-fb57-45f6-a9ca-ee72ad3611aa",
   "metadata": {},
   "source": [
    "We can look at the contents of the model, it contains the feature averages and variances (used to whiten the data, these will be used in the estimate stage as well), and 'nnlist', which is the stored neural net models.  The value of `include_odds` is stored as well, as if the model was trained or not trained with ODDS included, the estimate must do the same."
   ]
  },
  {
   "cell_type": "code",
   "execution_count": null,
   "id": "7ed76278-693e-44d8-a1b6-6edae00325cd",
   "metadata": {},
   "outputs": [],
   "source": [
    "nnc_model()"
   ]
  },
  {
   "cell_type": "markdown",
   "id": "63ab55e4-f552-4777-b2a5-01e2ba0c6fa5",
   "metadata": {},
   "source": [
    "# Run the estimator stage\n",
    "\n",
    "Now we can use the model from the inform stage to estimate values for our test galaxies"
   ]
  },
  {
   "cell_type": "code",
   "execution_count": null,
   "id": "6668db3b-463b-42e6-8e5c-a25f205bafc7",
   "metadata": {},
   "outputs": [],
   "source": [
    "default_dict2 = dict(hdf5_groupname=\"photometry\", output=\"NNCflags_output.hdf5\",\n",
    "                    bands=lsst_bands, model=\"NNCflag_model.pkl\",\n",
    "                    zphot_name='zmode')"
   ]
  },
  {
   "cell_type": "code",
   "execution_count": null,
   "id": "bba6d7cb-a7fd-4dbe-b8d7-37b985187c83",
   "metadata": {},
   "outputs": [],
   "source": [
    "run_est = NNFlagEstimator.make_stage(name=\"testest\", **default_dict2)"
   ]
  },
  {
   "cell_type": "code",
   "execution_count": null,
   "id": "07e06845-0bef-4e96-8a40-9a43eda38e0f",
   "metadata": {},
   "outputs": [],
   "source": [
    "%%time\n",
    "results = run_est.estimate(test_data, pdftestdata)"
   ]
  },
  {
   "cell_type": "markdown",
   "id": "93285bca-d748-4d1a-806d-ff6260bca17f",
   "metadata": {},
   "source": [
    "## Results plots\n",
    "\n",
    "As we ran with `include_odds` set to `True`, our results file contains two arrays, `nncflag` and `ODDS`.  Both are quality flags that range from 0 to 1, with values closer to 0 indicating a likely bad fit, and values closer to 1 indicating a good fit.  We can make some plots showing how cuts in each flag look when compared to the overall sample.  We can set up the data and see what a cut of 0.5 in the flag value looks like on a zmode vs specz point estimate plot:"
   ]
  },
  {
   "cell_type": "code",
   "execution_count": null,
   "id": "17b87111-bd34-4016-a01a-31c4c80933a9",
   "metadata": {},
   "outputs": [],
   "source": [
    "nnflag = results()['nncflag']"
   ]
  },
  {
   "cell_type": "code",
   "execution_count": null,
   "id": "bed84085-801f-4461-8b50-7be64b6d30f9",
   "metadata": {},
   "outputs": [],
   "source": [
    "odds = results()['ODDS']"
   ]
  },
  {
   "cell_type": "code",
   "execution_count": null,
   "id": "e7874b99-bb43-4edb-89a7-6e4a3026136d",
   "metadata": {},
   "outputs": [],
   "source": [
    "sz = test_data()['photometry']['redshift']"
   ]
  },
  {
   "cell_type": "code",
   "execution_count": null,
   "id": "f285eb14-72eb-41a2-a052-903c0b8c13a9",
   "metadata": {},
   "outputs": [],
   "source": [
    "testpdffile = \"./bpz_results_defaultprior_testfile.hdf5\"\n",
    "testpdfdata = qp.read(testpdffile)"
   ]
  },
  {
   "cell_type": "code",
   "execution_count": null,
   "id": "fe4ed0ca-5352-418a-b03f-83d549361b56",
   "metadata": {},
   "outputs": [],
   "source": [
    "zb = testpdfdata.ancil['zmode'].flatten()"
   ]
  },
  {
   "cell_type": "code",
   "execution_count": null,
   "id": "2e24b6ad-3f04-4157-aaa0-1b3bb689d1d8",
   "metadata": {},
   "outputs": [],
   "source": [
    "import matplotlib.pyplot as plt\n",
    "plt.hist(nnflag, bins=np.linspace(0,1,51));\n",
    "plt.xlabel('nncflag value', fontsize=12)\n",
    "plt.ylabel('number', fontsize=12);"
   ]
  },
  {
   "cell_type": "code",
   "execution_count": null,
   "id": "090ebbd8-8785-4b87-b176-c7b9a0bd33c5",
   "metadata": {},
   "outputs": [],
   "source": [
    "import matplotlib.pyplot as plt\n",
    "plt.hist(odds, bins=np.linspace(0,1,51));\n",
    "plt.xlabel('ODDS value', fontsize=12)\n",
    "plt.ylabel('number', fontsize=12);"
   ]
  },
  {
   "cell_type": "code",
   "execution_count": null,
   "id": "828916c1-b683-4c0e-815a-4d56ed73e879",
   "metadata": {},
   "outputs": [],
   "source": [
    "flagcut = 0.5\n",
    "mask = (nnflag>flagcut)\n",
    "szx = sz[mask]\n",
    "zbx = zb[mask]\n",
    "plt.figure(figsize=(8,8))\n",
    "plt.scatter(sz,zb, s=5,c='k', label=\"full sample\")\n",
    "plt.scatter(szx,zbx, s=2,c='r', label=f\"nncflag>{flagcut}\")\n",
    "plt.legend(loc='center left', fontsize=12)\n",
    "plt.xlabel(\"redshift\", fontsize=14)\n",
    "plt.ylabel(\"zmode\", fontsize=14);"
   ]
  },
  {
   "cell_type": "code",
   "execution_count": null,
   "id": "723a443f-9faa-4b12-9858-e7fb6a1fbed9",
   "metadata": {},
   "outputs": [],
   "source": [
    "flagcut = 0.5\n",
    "mask = (odds>flagcut)\n",
    "szx = sz[mask]\n",
    "zbx = zb[mask]\n",
    "plt.figure(figsize=(8,8))\n",
    "plt.scatter(sz,zb, s=5,c='k', label=\"full sample\")\n",
    "plt.scatter(szx,zbx, s=2,c='r', label=f\"ODDS>{flagcut}\")\n",
    "plt.legend(loc='center left', fontsize=12)\n",
    "plt.xlabel(\"redshift\", fontsize=14)\n",
    "plt.ylabel(\"zmode\", fontsize=14);"
   ]
  },
  {
   "cell_type": "markdown",
   "id": "ab99ae7b-f16f-4b11-9c6e-055c89058dc5",
   "metadata": {},
   "source": [
    "We can also plot ODDS vs nncflag, we see that they are roughly correlated, but with a lot of scatter, particularly for \"bad\" galaxies.  However, we see that \"good\" galaxies tend to have high values of both flags, which is a good indicator that both are functioning similarly for high quality data.  It may be the case that doing a looser selection on both flags coule result in better selection than a more strict cut in one flag."
   ]
  },
  {
   "cell_type": "code",
   "execution_count": null,
   "id": "3164b3de-d115-4a52-8426-9de05d1dfc8c",
   "metadata": {},
   "outputs": [],
   "source": [
    "plt.figure(figsize=(7,7))\n",
    "plt.scatter(nnflag, odds, s=1,c='k')\n",
    "plt.plot([0,1],[0,1],'r--', lw=2)\n",
    "plt.xlabel(\"NN flag\", fontsize=13)\n",
    "plt.ylabel(\"ODDS\", fontsize=13);"
   ]
  },
  {
   "cell_type": "code",
   "execution_count": null,
   "id": "ee5aa613-8eae-426e-90d2-cdd556e95e4e",
   "metadata": {},
   "outputs": [],
   "source": []
  }
 ],
 "metadata": {
  "kernelspec": {
   "display_name": "Python 3 (ipykernel)",
   "language": "python",
   "name": "python3"
  },
  "language_info": {
   "codemirror_mode": {
    "name": "ipython",
    "version": 3
   },
   "file_extension": ".py",
   "mimetype": "text/x-python",
   "name": "python",
   "nbconvert_exporter": "python",
   "pygments_lexer": "ipython3",
   "version": "3.12.11"
  }
 },
 "nbformat": 4,
 "nbformat_minor": 5
}
